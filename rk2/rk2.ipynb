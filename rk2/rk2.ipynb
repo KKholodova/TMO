{
 "cells": [
  {
   "cell_type": "markdown",
   "id": "3f069690",
   "metadata": {},
   "source": [
    "# Рубежный контроль №2\n",
    "\n",
    "**Ф.И.О.:** Холодова К.А.  \n",
    "**Группа:** ИУ5Ц-82Б  \n",
    "**Вариант:** 32  \n",
    "**Датасет:** [Disney Movies 1937–2016](https://www.kaggle.com/datasets/rashikrahmanpritom/disney-movies-19372016-total-gross)  \n",
    "**Методы:** Метод опорных векторов и Случайный лес\n",
    "\n",
    "## 📌 Цель\n",
    "Построить модели регрессии для предсказания общего кассового сбора (Total Gross) по признакам фильмов.  \n",
    "Сравнить качество моделей по метрикам MAE и RMSE."
   ]
  },
  {
   "cell_type": "code",
   "execution_count": 1,
   "id": "92b52f41",
   "metadata": {},
   "outputs": [],
   "source": [
    "# Импорт библиотек\n",
    "import pandas as pd\n",
    "import numpy as np\n",
    "from sklearn.model_selection import train_test_split\n",
    "from sklearn.svm import SVR\n",
    "from sklearn.ensemble import RandomForestRegressor\n",
    "from sklearn.metrics import mean_absolute_error, mean_squared_error"
   ]
  },
  {
   "cell_type": "code",
   "execution_count": 3,
   "id": "64fda25c",
   "metadata": {},
   "outputs": [
    {
     "data": {
      "text/html": [
       "<div>\n",
       "<style scoped>\n",
       "    .dataframe tbody tr th:only-of-type {\n",
       "        vertical-align: middle;\n",
       "    }\n",
       "\n",
       "    .dataframe tbody tr th {\n",
       "        vertical-align: top;\n",
       "    }\n",
       "\n",
       "    .dataframe thead th {\n",
       "        text-align: right;\n",
       "    }\n",
       "</style>\n",
       "<table border=\"1\" class=\"dataframe\">\n",
       "  <thead>\n",
       "    <tr style=\"text-align: right;\">\n",
       "      <th></th>\n",
       "      <th>movie_title</th>\n",
       "      <th>release_date</th>\n",
       "      <th>genre</th>\n",
       "      <th>mpaa_rating</th>\n",
       "      <th>total_gross</th>\n",
       "      <th>inflation_adjusted_gross</th>\n",
       "    </tr>\n",
       "  </thead>\n",
       "  <tbody>\n",
       "    <tr>\n",
       "      <th>0</th>\n",
       "      <td>Snow White and the Seven Dwarfs</td>\n",
       "      <td>1937-12-21</td>\n",
       "      <td>Musical</td>\n",
       "      <td>G</td>\n",
       "      <td>184925485</td>\n",
       "      <td>5228953251</td>\n",
       "    </tr>\n",
       "    <tr>\n",
       "      <th>1</th>\n",
       "      <td>Pinocchio</td>\n",
       "      <td>1940-02-09</td>\n",
       "      <td>Adventure</td>\n",
       "      <td>G</td>\n",
       "      <td>84300000</td>\n",
       "      <td>2188229052</td>\n",
       "    </tr>\n",
       "    <tr>\n",
       "      <th>2</th>\n",
       "      <td>Fantasia</td>\n",
       "      <td>1940-11-13</td>\n",
       "      <td>Musical</td>\n",
       "      <td>G</td>\n",
       "      <td>83320000</td>\n",
       "      <td>2187090808</td>\n",
       "    </tr>\n",
       "    <tr>\n",
       "      <th>3</th>\n",
       "      <td>Song of the South</td>\n",
       "      <td>1946-11-12</td>\n",
       "      <td>Adventure</td>\n",
       "      <td>G</td>\n",
       "      <td>65000000</td>\n",
       "      <td>1078510579</td>\n",
       "    </tr>\n",
       "    <tr>\n",
       "      <th>4</th>\n",
       "      <td>Cinderella</td>\n",
       "      <td>1950-02-15</td>\n",
       "      <td>Drama</td>\n",
       "      <td>G</td>\n",
       "      <td>85000000</td>\n",
       "      <td>920608730</td>\n",
       "    </tr>\n",
       "  </tbody>\n",
       "</table>\n",
       "</div>"
      ],
      "text/plain": [
       "                       movie_title release_date      genre mpaa_rating  \\\n",
       "0  Snow White and the Seven Dwarfs   1937-12-21    Musical           G   \n",
       "1                        Pinocchio   1940-02-09  Adventure           G   \n",
       "2                         Fantasia   1940-11-13    Musical           G   \n",
       "3                Song of the South   1946-11-12  Adventure           G   \n",
       "4                       Cinderella   1950-02-15      Drama           G   \n",
       "\n",
       "   total_gross  inflation_adjusted_gross  \n",
       "0    184925485                5228953251  \n",
       "1     84300000                2188229052  \n",
       "2     83320000                2187090808  \n",
       "3     65000000                1078510579  \n",
       "4     85000000                 920608730  "
      ]
     },
     "execution_count": 3,
     "metadata": {},
     "output_type": "execute_result"
    }
   ],
   "source": [
    "# Загрузка датасета\n",
    "df = pd.read_csv(\"disney_movies_total_gross.csv\")\n",
    "\n",
    "# Очистка названий столбцов\n",
    "df.columns = df.columns.str.strip().str.lower()\n",
    "df.head()"
   ]
  },
  {
   "cell_type": "code",
   "execution_count": 4,
   "id": "5f601c1c",
   "metadata": {},
   "outputs": [],
   "source": [
    "# Преобразование столбца total_gross в числовой формат\n",
    "df['total_gross'] = df['total_gross'].replace('[\\$,]', '', regex=True).astype(float)\n",
    "\n",
    "# Преобразование release_date в год\n",
    "df['release_year'] = pd.to_datetime(df['release_date'], errors='coerce').dt.year\n",
    "\n",
    "# Удаление строк с пропущенными значениями\n",
    "df = df.dropna(subset=[\"total_gross\", \"genre\", \"release_year\"])"
   ]
  },
  {
   "cell_type": "code",
   "execution_count": 5,
   "id": "f7036a3a",
   "metadata": {},
   "outputs": [],
   "source": [
    "# Кодирование категориальных признаков (жанра)\n",
    "df_encoded = pd.get_dummies(df[['genre']], drop_first=True)\n",
    "\n",
    "# Добавим числовой признак release_year\n",
    "df_encoded['release_year'] = df['release_year']\n",
    "\n",
    "# Формируем признаки (X) и целевую переменную (y)\n",
    "X = df_encoded\n",
    "y = df['total_gross']"
   ]
  },
  {
   "cell_type": "code",
   "execution_count": 6,
   "id": "5b2f6dee",
   "metadata": {},
   "outputs": [],
   "source": [
    "# Разделение данных на обучающую и тестовую выборки\n",
    "X_train, X_test, y_train, y_test = train_test_split(X, y, test_size=0.2, random_state=42)"
   ]
  },
  {
   "cell_type": "markdown",
   "id": "d73fe1f6",
   "metadata": {},
   "source": [
    "## 🔧 Метод 1: Метод опорных векторов (SVR)"
   ]
  },
  {
   "cell_type": "code",
   "execution_count": 7,
   "id": "5a213fd7",
   "metadata": {},
   "outputs": [
    {
     "data": {
      "text/plain": [
       "(np.float64(45873467.65434713), np.float64(77644620.54004093))"
      ]
     },
     "execution_count": 7,
     "metadata": {},
     "output_type": "execute_result"
    }
   ],
   "source": [
    "# Обучение модели SVR\n",
    "model_svr = SVR()\n",
    "model_svr.fit(X_train, y_train)\n",
    "\n",
    "# Предсказание\n",
    "y_pred_svr = model_svr.predict(X_test)\n",
    "\n",
    "# Оценка качества модели\n",
    "mae_svr = mean_absolute_error(y_test, y_pred_svr)\n",
    "rmse_svr = np.sqrt(mean_squared_error(y_test, y_pred_svr))\n",
    "\n",
    "mae_svr, rmse_svr"
   ]
  },
  {
   "cell_type": "markdown",
   "id": "304d95b1",
   "metadata": {},
   "source": [
    "## 🌲 Метод 2: Случайный лес (Random Forest)"
   ]
  },
  {
   "cell_type": "code",
   "execution_count": 8,
   "id": "1fcca479",
   "metadata": {},
   "outputs": [
    {
     "data": {
      "text/plain": [
       "(np.float64(57553030.24853881), np.float64(83934294.57244053))"
      ]
     },
     "execution_count": 8,
     "metadata": {},
     "output_type": "execute_result"
    }
   ],
   "source": [
    "# Обучение модели Random Forest\n",
    "model_rf = RandomForestRegressor(n_estimators=100, random_state=42)\n",
    "model_rf.fit(X_train, y_train)\n",
    "\n",
    "# Предсказание\n",
    "y_pred_rf = model_rf.predict(X_test)\n",
    "\n",
    "# Оценка качества модели\n",
    "mae_rf = mean_absolute_error(y_test, y_pred_rf)\n",
    "rmse_rf = np.sqrt(mean_squared_error(y_test, y_pred_rf))\n",
    "\n",
    "mae_rf, rmse_rf"
   ]
  },
  {
   "cell_type": "markdown",
   "id": "f1a05549",
   "metadata": {},
   "source": [
    "## 📊 Сравнение метрик качества\n",
    "\n",
    "| Метрика       | Метод опорных векторов | Случайный лес       |\n",
    "|---------------|------------------------|----------------------|\n",
    "| MAE           | ~45.87 млн             | ~57.55 млн           |\n",
    "| RMSE          | ~77.64 млн             | ~83.93 млн           |\n",
    "\n",
    "## ✅ Выводы\n",
    "#### - Метод опорных векторов показал **лучшие результаты** по обеим метрикам.\n",
    "#### - Случайный лес оказался менее точным — возможно, из-за небольшого количества числовых признаков и присутствия выбросов (фильмы-блокбастеры с экстремальными сборами).\n",
    "#### - MAE даёт представление о средней ошибке прогноза в долларах, RMSE более чувствителен к крупным отклонениям.\n",
    "#### - Для улучшения модели можно добавить больше признаков, таких как длительность фильма, наличие сиквелов, рейтинги и т.п."
   ]
  }
 ],
 "metadata": {
  "kernelspec": {
   "display_name": "3.9.6",
   "language": "python",
   "name": "python3"
  },
  "language_info": {
   "codemirror_mode": {
    "name": "ipython",
    "version": 3
   },
   "file_extension": ".py",
   "mimetype": "text/x-python",
   "name": "python",
   "nbconvert_exporter": "python",
   "pygments_lexer": "ipython3",
   "version": "3.9.6"
  }
 },
 "nbformat": 4,
 "nbformat_minor": 5
}
